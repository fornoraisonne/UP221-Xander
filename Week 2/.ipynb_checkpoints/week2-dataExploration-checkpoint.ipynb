{
 "cells": [
  {
   "cell_type": "markdown",
   "id": "7d238cb5-b43e-4dbf-ba61-73580ec3a3ce",
   "metadata": {},
   "source": [
    "# Week 2 Assignment\n",
    "## data exploration\n",
    "Xander Lee\n",
    "\n",
    "UP221-W24\n",
    "\n",
    "21 Jan 2024"
   ]
  },
  {
   "cell_type": "code",
   "execution_count": 1,
   "id": "b0c0fde1-0116-45e3-be63-bb24a29b6081",
   "metadata": {},
   "outputs": [],
   "source": [
    "#importing python libraries\n",
    "import pandas as pd\n",
    "import geopandas as gpd\n"
   ]
  },
  {
   "cell_type": "markdown",
   "id": "58efe9c4-fe7f-4947-bb1f-c950e26d4789",
   "metadata": {},
   "source": [
    "## 1. reading in the data\n",
    "here I read the file and display it to get basic info about the dataframe. "
   ]
  },
  {
   "cell_type": "code",
   "execution_count": 5,
   "id": "21ca7125-df3d-48d2-b022-cdf2856a83dc",
   "metadata": {},
   "outputs": [
    {
     "data": {
      "text/html": [
       "<div>\n",
       "<style scoped>\n",
       "    .dataframe tbody tr th:only-of-type {\n",
       "        vertical-align: middle;\n",
       "    }\n",
       "\n",
       "    .dataframe tbody tr th {\n",
       "        vertical-align: top;\n",
       "    }\n",
       "\n",
       "    .dataframe thead th {\n",
       "        text-align: right;\n",
       "    }\n",
       "</style>\n",
       "<table border=\"1\" class=\"dataframe\">\n",
       "  <thead>\n",
       "    <tr style=\"text-align: right;\">\n",
       "      <th></th>\n",
       "      <th>geoid</th>\n",
       "      <th>geoid20</th>\n",
       "      <th>year</th>\n",
       "      <th>pantry_count</th>\n",
       "      <th>geometry</th>\n",
       "    </tr>\n",
       "  </thead>\n",
       "  <tbody>\n",
       "    <tr>\n",
       "      <th>0</th>\n",
       "      <td>1400000US06037104103</td>\n",
       "      <td>6037104103</td>\n",
       "      <td>2020</td>\n",
       "      <td>1</td>\n",
       "      <td>None</td>\n",
       "    </tr>\n",
       "    <tr>\n",
       "      <th>1</th>\n",
       "      <td>1400000US06037104201</td>\n",
       "      <td>6037104201</td>\n",
       "      <td>2020</td>\n",
       "      <td>1</td>\n",
       "      <td>None</td>\n",
       "    </tr>\n",
       "    <tr>\n",
       "      <th>2</th>\n",
       "      <td>1400000US06037104822</td>\n",
       "      <td>6037104822</td>\n",
       "      <td>2020</td>\n",
       "      <td>1</td>\n",
       "      <td>None</td>\n",
       "    </tr>\n",
       "    <tr>\n",
       "      <th>3</th>\n",
       "      <td>1400000US06037106646</td>\n",
       "      <td>6037106646</td>\n",
       "      <td>2020</td>\n",
       "      <td>1</td>\n",
       "      <td>None</td>\n",
       "    </tr>\n",
       "    <tr>\n",
       "      <th>4</th>\n",
       "      <td>1400000US06037111402</td>\n",
       "      <td>6037111402</td>\n",
       "      <td>2020</td>\n",
       "      <td>1</td>\n",
       "      <td>None</td>\n",
       "    </tr>\n",
       "    <tr>\n",
       "      <th>...</th>\n",
       "      <td>...</td>\n",
       "      <td>...</td>\n",
       "      <td>...</td>\n",
       "      <td>...</td>\n",
       "      <td>...</td>\n",
       "    </tr>\n",
       "    <tr>\n",
       "      <th>2490</th>\n",
       "      <td>1400000US06037980035</td>\n",
       "      <td>6037980035</td>\n",
       "      <td>2020</td>\n",
       "      <td>0</td>\n",
       "      <td>None</td>\n",
       "    </tr>\n",
       "    <tr>\n",
       "      <th>2491</th>\n",
       "      <td>1400000US06037980036</td>\n",
       "      <td>6037980036</td>\n",
       "      <td>2020</td>\n",
       "      <td>0</td>\n",
       "      <td>None</td>\n",
       "    </tr>\n",
       "    <tr>\n",
       "      <th>2492</th>\n",
       "      <td>1400000US06037980037</td>\n",
       "      <td>6037980037</td>\n",
       "      <td>2020</td>\n",
       "      <td>0</td>\n",
       "      <td>None</td>\n",
       "    </tr>\n",
       "    <tr>\n",
       "      <th>2493</th>\n",
       "      <td>1400000US06037980038</td>\n",
       "      <td>6037980038</td>\n",
       "      <td>2020</td>\n",
       "      <td>0</td>\n",
       "      <td>None</td>\n",
       "    </tr>\n",
       "    <tr>\n",
       "      <th>2494</th>\n",
       "      <td>1400000US06037980039</td>\n",
       "      <td>6037980039</td>\n",
       "      <td>2020</td>\n",
       "      <td>0</td>\n",
       "      <td>None</td>\n",
       "    </tr>\n",
       "  </tbody>\n",
       "</table>\n",
       "<p>2495 rows × 5 columns</p>\n",
       "</div>"
      ],
      "text/plain": [
       "                     geoid     geoid20  year pantry_count geometry\n",
       "0     1400000US06037104103  6037104103  2020            1     None\n",
       "1     1400000US06037104201  6037104201  2020            1     None\n",
       "2     1400000US06037104822  6037104822  2020            1     None\n",
       "3     1400000US06037106646  6037106646  2020            1     None\n",
       "4     1400000US06037111402  6037111402  2020            1     None\n",
       "...                    ...         ...   ...          ...      ...\n",
       "2490  1400000US06037980035  6037980035  2020            0     None\n",
       "2491  1400000US06037980036  6037980036  2020            0     None\n",
       "2492  1400000US06037980037  6037980037  2020            0     None\n",
       "2493  1400000US06037980038  6037980038  2020            0     None\n",
       "2494  1400000US06037980039  6037980039  2020            0     None\n",
       "\n",
       "[2495 rows x 5 columns]"
      ]
     },
     "execution_count": 5,
     "metadata": {},
     "output_type": "execute_result"
    }
   ],
   "source": [
    "#reading in file\n",
    "pantries = gpd.read_file('Data/Food_Pantries_Calculations_b.csv')\n",
    "pantries"
   ]
  },
  {
   "cell_type": "markdown",
   "id": "74eb07ec-514b-4774-be4f-576be1876c05",
   "metadata": {},
   "source": [
    "We can see that there are 2495 unique values in the dataset and 5 columns of variables: geoid, geodid20, year, pantry count, and geometry. Displaying the pantries dataset also shows me the head and tail of the dataset. The year variable is somewhat confusing since it seems like all of the values are identical. maybe not the most meticulously constructed dataset around. It also appears that the 'geometry' column is null for all values, which is curious, since the methodology notes in the release information for this dataset indicates that there are unique geocoded coordinates for each value. It would seem that the geoid and geoid20 may be the x and y coordinates, but I don't know how to operationalize/utilize that.\n",
    "\n",
    "next I confirm that the dataframe contains geodata. "
   ]
  },
  {
   "cell_type": "code",
   "execution_count": 7,
   "id": "d32020bf-1474-4562-a789-f1e15df25845",
   "metadata": {},
   "outputs": [
    {
     "data": {
      "text/plain": [
       "geopandas.geodataframe.GeoDataFrame"
      ]
     },
     "execution_count": 7,
     "metadata": {},
     "output_type": "execute_result"
    }
   ],
   "source": [
    "#confirming we have geographic data\n",
    "type(pantries)"
   ]
  },
  {
   "cell_type": "code",
   "execution_count": 8,
   "id": "ac91e6c8-ff2b-4948-ae6b-f8f317fd11f4",
   "metadata": {},
   "outputs": [
    {
     "data": {
      "text/plain": [
       "<bound method DataFrame.info of                      geoid     geoid20  year pantry_count geometry\n",
       "0     1400000US06037104103  6037104103  2020            1     None\n",
       "1     1400000US06037104201  6037104201  2020            1     None\n",
       "2     1400000US06037104822  6037104822  2020            1     None\n",
       "3     1400000US06037106646  6037106646  2020            1     None\n",
       "4     1400000US06037111402  6037111402  2020            1     None\n",
       "...                    ...         ...   ...          ...      ...\n",
       "2490  1400000US06037980035  6037980035  2020            0     None\n",
       "2491  1400000US06037980036  6037980036  2020            0     None\n",
       "2492  1400000US06037980037  6037980037  2020            0     None\n",
       "2493  1400000US06037980038  6037980038  2020            0     None\n",
       "2494  1400000US06037980039  6037980039  2020            0     None\n",
       "\n",
       "[2495 rows x 5 columns]>"
      ]
     },
     "execution_count": 8,
     "metadata": {},
     "output_type": "execute_result"
    }
   ],
   "source": [
    "#display dataframe info\n",
    "pantries.info"
   ]
  },
  {
   "cell_type": "markdown",
   "id": "571c4ef7-f735-4505-8ab7-8f17ecd5844c",
   "metadata": {},
   "source": [
    "Displaying dataset info confirms we have 2,495 rows, 5 columns, and the previously mentioned 5 columns. Below, querying the shape of the dataset further confirms our 2,495 rows and 5 columns. "
   ]
  },
  {
   "cell_type": "code",
   "execution_count": 16,
   "id": "1344ff4e-5d0b-4e20-8765-2736fb5adbe9",
   "metadata": {},
   "outputs": [
    {
     "data": {
      "text/plain": [
       "(2495, 5)"
      ]
     },
     "execution_count": 16,
     "metadata": {},
     "output_type": "execute_result"
    }
   ],
   "source": [
    "#rows/columns? \n",
    "pantries.shape"
   ]
  },
  {
   "cell_type": "code",
   "execution_count": 17,
   "id": "33745b90-6516-462f-877b-0ec6d0f43f8d",
   "metadata": {},
   "outputs": [
    {
     "data": {
      "text/plain": [
       "['geoid', 'geoid20', 'year', 'pantry_count', 'geometry']"
      ]
     },
     "execution_count": 17,
     "metadata": {},
     "output_type": "execute_result"
    }
   ],
   "source": [
    "#display columns\n",
    "pantries.columns.to_list()"
   ]
  },
  {
   "cell_type": "markdown",
   "id": "2eac91fc-1262-4e69-be79-ba675be8d633",
   "metadata": {},
   "source": [
    "the 5 columns are 'geoid', 'geoid20', 'year', 'pantry_count', and 'geometry'\n"
   ]
  },
  {
   "cell_type": "code",
   "execution_count": 20,
   "id": "12927f7e-79cb-414b-8b3f-5f9781ba8dfc",
   "metadata": {},
   "outputs": [
    {
     "data": {
      "text/plain": [
       "year\n",
       "2020    2495\n",
       "Name: count, dtype: int64"
      ]
     },
     "execution_count": 20,
     "metadata": {},
     "output_type": "execute_result"
    }
   ],
   "source": [
    "#saving a year count as a new variable\n",
    "year_count = pantries['year'].value_counts()\n",
    "year_count"
   ]
  },
  {
   "cell_type": "markdown",
   "id": "00f74217-b140-432d-92d9-5ad0a0e6aa12",
   "metadata": {},
   "source": [
    "As I suspected, all 2,495 food pantries in this dataset are labelled 2020, which I think is the year this dataset was compiled? perhaps this is the foundation for an ongoing longitudinal tracking of food pantries starting in the year 2020 and year is intended to reflect the sampling timeframe"
   ]
  },
  {
   "cell_type": "code",
   "execution_count": 23,
   "id": "bc04b29b-4129-4eec-b33b-ab0e7b3421cb",
   "metadata": {},
   "outputs": [
    {
     "data": {
      "text/html": [
       "<div>\n",
       "<style scoped>\n",
       "    .dataframe tbody tr th:only-of-type {\n",
       "        vertical-align: middle;\n",
       "    }\n",
       "\n",
       "    .dataframe tbody tr th {\n",
       "        vertical-align: top;\n",
       "    }\n",
       "\n",
       "    .dataframe thead th {\n",
       "        text-align: right;\n",
       "    }\n",
       "</style>\n",
       "<table border=\"1\" class=\"dataframe\">\n",
       "  <thead>\n",
       "    <tr style=\"text-align: right;\">\n",
       "      <th></th>\n",
       "      <th>index</th>\n",
       "      <th>year</th>\n",
       "      <th>count</th>\n",
       "    </tr>\n",
       "  </thead>\n",
       "  <tbody>\n",
       "    <tr>\n",
       "      <th>0</th>\n",
       "      <td>0</td>\n",
       "      <td>2020</td>\n",
       "      <td>2495</td>\n",
       "    </tr>\n",
       "  </tbody>\n",
       "</table>\n",
       "</div>"
      ],
      "text/plain": [
       "   index  year  count\n",
       "0      0  2020   2495"
      ]
     },
     "execution_count": 23,
     "metadata": {},
     "output_type": "execute_result"
    }
   ],
   "source": [
    "#making a dataframe out of the year count variable for better plotting\n",
    "year_count = year_count.reset_index()\n",
    "\n",
    "year_count"
   ]
  },
  {
   "cell_type": "code",
   "execution_count": 25,
   "id": "adff6bae-8dbe-4b03-a831-46e9be62313a",
   "metadata": {},
   "outputs": [
    {
     "data": {
      "text/plain": [
       "<Axes: title={'center': 'values per year sampled'}, xlabel='year'>"
      ]
     },
     "execution_count": 25,
     "metadata": {},
     "output_type": "execute_result"
    },
    {
     "data": {
      "image/png": "[encoded data removed]",
      "text/plain": [
       "<Figure size 640x480 with 1 Axes>"
      ]
     },
     "metadata": {},
     "output_type": "display_data"
    }
   ],
   "source": [
    "#plot the count\n",
    "year_count.plot.bar(x = 'year', y = 'count', title = 'values per year sampled')"
   ]
  },
  {
   "cell_type": "code",
   "execution_count": 27,
   "id": "14dba6cf-91f4-47f6-af99-e23b2c0948c5",
   "metadata": {},
   "outputs": [
    {
     "data": {
      "text/html": [
       "<div>\n",
       "<style scoped>\n",
       "    .dataframe tbody tr th:only-of-type {\n",
       "        vertical-align: middle;\n",
       "    }\n",
       "\n",
       "    .dataframe tbody tr th {\n",
       "        vertical-align: top;\n",
       "    }\n",
       "\n",
       "    .dataframe thead th {\n",
       "        text-align: right;\n",
       "    }\n",
       "</style>\n",
       "<table border=\"1\" class=\"dataframe\">\n",
       "  <thead>\n",
       "    <tr style=\"text-align: right;\">\n",
       "      <th></th>\n",
       "      <th>geoid</th>\n",
       "      <th>geoid20</th>\n",
       "      <th>year</th>\n",
       "      <th>pantry_count</th>\n",
       "      <th>geometry</th>\n",
       "    </tr>\n",
       "  </thead>\n",
       "  <tbody>\n",
       "    <tr>\n",
       "      <th>0</th>\n",
       "      <td>1400000US06037104103</td>\n",
       "      <td>6037104103</td>\n",
       "      <td>2020</td>\n",
       "      <td>1</td>\n",
       "      <td>None</td>\n",
       "    </tr>\n",
       "    <tr>\n",
       "      <th>1</th>\n",
       "      <td>1400000US06037104201</td>\n",
       "      <td>6037104201</td>\n",
       "      <td>2020</td>\n",
       "      <td>1</td>\n",
       "      <td>None</td>\n",
       "    </tr>\n",
       "    <tr>\n",
       "      <th>2</th>\n",
       "      <td>1400000US06037104822</td>\n",
       "      <td>6037104822</td>\n",
       "      <td>2020</td>\n",
       "      <td>1</td>\n",
       "      <td>None</td>\n",
       "    </tr>\n",
       "    <tr>\n",
       "      <th>3</th>\n",
       "      <td>1400000US06037106646</td>\n",
       "      <td>6037106646</td>\n",
       "      <td>2020</td>\n",
       "      <td>1</td>\n",
       "      <td>None</td>\n",
       "    </tr>\n",
       "    <tr>\n",
       "      <th>4</th>\n",
       "      <td>1400000US06037111402</td>\n",
       "      <td>6037111402</td>\n",
       "      <td>2020</td>\n",
       "      <td>1</td>\n",
       "      <td>None</td>\n",
       "    </tr>\n",
       "    <tr>\n",
       "      <th>...</th>\n",
       "      <td>...</td>\n",
       "      <td>...</td>\n",
       "      <td>...</td>\n",
       "      <td>...</td>\n",
       "      <td>...</td>\n",
       "    </tr>\n",
       "    <tr>\n",
       "      <th>2490</th>\n",
       "      <td>1400000US06037980035</td>\n",
       "      <td>6037980035</td>\n",
       "      <td>2020</td>\n",
       "      <td>0</td>\n",
       "      <td>None</td>\n",
       "    </tr>\n",
       "    <tr>\n",
       "      <th>2491</th>\n",
       "      <td>1400000US06037980036</td>\n",
       "      <td>6037980036</td>\n",
       "      <td>2020</td>\n",
       "      <td>0</td>\n",
       "      <td>None</td>\n",
       "    </tr>\n",
       "    <tr>\n",
       "      <th>2492</th>\n",
       "      <td>1400000US06037980037</td>\n",
       "      <td>6037980037</td>\n",
       "      <td>2020</td>\n",
       "      <td>0</td>\n",
       "      <td>None</td>\n",
       "    </tr>\n",
       "    <tr>\n",
       "      <th>2493</th>\n",
       "      <td>1400000US06037980038</td>\n",
       "      <td>6037980038</td>\n",
       "      <td>2020</td>\n",
       "      <td>0</td>\n",
       "      <td>None</td>\n",
       "    </tr>\n",
       "    <tr>\n",
       "      <th>2494</th>\n",
       "      <td>1400000US06037980039</td>\n",
       "      <td>6037980039</td>\n",
       "      <td>2020</td>\n",
       "      <td>0</td>\n",
       "      <td>None</td>\n",
       "    </tr>\n",
       "  </tbody>\n",
       "</table>\n",
       "<p>2495 rows × 5 columns</p>\n",
       "</div>"
      ],
      "text/plain": [
       "                     geoid     geoid20  year pantry_count geometry\n",
       "0     1400000US06037104103  6037104103  2020            1     None\n",
       "1     1400000US06037104201  6037104201  2020            1     None\n",
       "2     1400000US06037104822  6037104822  2020            1     None\n",
       "3     1400000US06037106646  6037106646  2020            1     None\n",
       "4     1400000US06037111402  6037111402  2020            1     None\n",
       "...                    ...         ...   ...          ...      ...\n",
       "2490  1400000US06037980035  6037980035  2020            0     None\n",
       "2491  1400000US06037980036  6037980036  2020            0     None\n",
       "2492  1400000US06037980037  6037980037  2020            0     None\n",
       "2493  1400000US06037980038  6037980038  2020            0     None\n",
       "2494  1400000US06037980039  6037980039  2020            0     None\n",
       "\n",
       "[2495 rows x 5 columns]"
      ]
     },
     "execution_count": 27,
     "metadata": {},
     "output_type": "execute_result"
    }
   ],
   "source": [
    "pantries.query(\"year == '2020'\")"
   ]
  },
  {
   "cell_type": "markdown",
   "id": "bd7921da-f57e-42b8-8320-426a5ec93470",
   "metadata": {},
   "source": [
    "filtering the data based on year further confirms that every unique entry in the dataset has an identical year value. "
   ]
  },
  {
   "cell_type": "code",
   "execution_count": 30,
   "id": "0b5c7b66-e3b9-4a56-917b-a1aa01090910",
   "metadata": {},
   "outputs": [
    {
     "data": {
      "text/plain": [
       "0       None\n",
       "1       None\n",
       "2       None\n",
       "3       None\n",
       "4       None\n",
       "        ... \n",
       "2490    None\n",
       "2491    None\n",
       "2492    None\n",
       "2493    None\n",
       "2494    None\n",
       "Name: geometry, Length: 2495, dtype: geometry"
      ]
     },
     "execution_count": 30,
     "metadata": {},
     "output_type": "execute_result"
    }
   ],
   "source": [
    "pantries.geometry"
   ]
  },
  {
   "cell_type": "markdown",
   "id": "9df9e2de-83b2-4027-84c3-04e4ed729bc8",
   "metadata": {},
   "source": [
    "it would appear that geopandas/I could not parse the geodata contained in this dataset. the dataset authors have chosen to give idiosyncratically geocoded x,y coordinates with no readily discernible connection to latitude or longitude, so the plotting command in geopandas will not do much, yet i will try."
   ]
  },
  {
   "cell_type": "code",
   "execution_count": 31,
   "id": "3f3f7689-6202-4f63-8aad-847dba1fe13a",
   "metadata": {},
   "outputs": [
    {
     "data": {
      "text/plain": [
       "<Axes: >"
      ]
     },
     "execution_count": 31,
     "metadata": {},
     "output_type": "execute_result"
    },
    {
     "data": {
      "image/png": "[encoded data removed]",
      "text/plain": [
       "<Figure size 640x480 with 1 Axes>"
      ]
     },
     "metadata": {},
     "output_type": "display_data"
    }
   ],
   "source": [
    "pantries.plot()"
   ]
  },
  {
   "cell_type": "markdown",
   "id": "e6fc4533-c0b4-49c4-9efb-aa87442a9485",
   "metadata": {},
   "source": [
    "as I suspected, the plot did not populate correcty. Is this just a poorly constructed dataset, or do I need to do additional processing to the geometric markers before attempting to plot?"
   ]
  },
  {
   "cell_type": "markdown",
   "id": "d65f217a-4e7c-488e-b6fa-eabe466a207b",
   "metadata": {},
   "source": []
  }
 ],
 "metadata": {
  "kernelspec": {
   "display_name": "Python 3 (ipykernel)",
   "language": "python",
   "name": "python3"
  },
  "language_info": {
   "codemirror_mode": {
    "name": "ipython",
    "version": 3
   },
   "file_extension": ".py",
   "mimetype": "text/x-python",
   "name": "python",
   "nbconvert_exporter": "python",
   "pygments_lexer": "ipython3",
   "version": "3.11.7"
  }
 },
 "nbformat": 4,
 "nbformat_minor": 5
}
